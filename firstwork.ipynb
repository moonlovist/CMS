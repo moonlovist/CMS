{
 "cells": [
  {
   "cell_type": "code",
   "execution_count": 1,
   "metadata": {},
   "outputs": [],
   "source": [
    "import numpy as np\n",
    "import pandas as pd\n",
    "import matplotlib.pyplot as plt\n",
    "import geeksw.hgcal.testbeam as hgc"
   ]
  },
  {
   "cell_type": "code",
   "execution_count": 2,
   "metadata": {},
   "outputs": [],
   "source": [
    "runlist = hgc.runlist"
   ]
  },
  {
   "cell_type": "code",
   "execution_count": 13,
   "metadata": {},
   "outputs": [],
   "source": [
    "run_numbers=runlist.query('Particle==\"electron\"').Run.values\n",
    "run_beamenergies=runlist.query('Particle==\"electron\"').Energy.values\n",
    "mean_rechit_sum=[]\n",
    "beamenergies=[]\n",
    "rechit_z=[]\n",
    "i=0"
   ]
  },
  {
   "cell_type": "code",
   "execution_count": 14,
   "metadata": {},
   "outputs": [
    {
     "name": "stdout",
     "output_type": "stream",
     "text": [
      "150 10100.9 51824.4\n",
      "150 10037.3 50863.3\n",
      "150 10038.8 50973.2\n",
      "150 9975.43 51011.9\n",
      "150 10046.0 50927.2\n"
     ]
    }
   ],
   "source": [
    "for run, beam_energy in zip(run_numbers, run_beamenergies):\n",
    "    try :\n",
    "        hdf=pd.read_hdf(\"data/ntuples/v9/ntuple_{0}.hdf\".format(run), \"rechitntupler/hits\").set_index(\"event\")\n",
    "        rechit_energy1=hdf.groupby(\"event\").rechit_energy.sum().mean()\n",
    "        rechit_z1=hdf.groupby(\"event\").rechit_z.sum().mean()\n",
    "        print(beam_energy, rechit_energy1,rechit_z1)\n",
    "        beamenergies.append(beam_energy)\n",
    "        rechit_z.append(rechit_z1)\n",
    "        mean_rechit_sum.append(rechit_energy1)\n",
    "        i += 1\n",
    "        if i == 5:\n",
    "            break\n",
    "    except :\n",
    "        pass\n"
   ]
  },
  {
   "cell_type": "code",
   "execution_count": 15,
   "metadata": {},
   "outputs": [],
   "source": [
    "dictionnary = pd.DataFrame(\n",
    "    {\n",
    "        \"mean_rechit_sum\" : mean_rechit_sum,\n",
    "        \"rechit_z\" : rechit_z,\n",
    "        \"beamenergies\" : beamenergies\n",
    "    })\n",
    "dictionnary.to_hdf(\"the temporary datas\", key=\"dataframe\")\n",
    "dictionnary.to_csv(\"the temporary datas\")"
   ]
  },
  {
   "cell_type": "code",
   "execution_count": 16,
   "metadata": {},
   "outputs": [
    {
     "data": {
      "image/png": "[encoded data removed]",
      "text/plain": [
       "<Figure size 432x288 with 1 Axes>"
      ]
     },
     "metadata": {
      "needs_background": "light"
     },
     "output_type": "display_data"
    }
   ],
   "source": [
    "plt.scatter(beamenergies,mean_rechit_sum)\n",
    "plt.scatter(mean_rechit_sum,rechit_z)\n",
    "plt.show()"
   ]
  }
 ],
 "metadata": {
  "kernelspec": {
   "display_name": "Python 3",
   "language": "python",
   "name": "python3"
  },
  "language_info": {
   "codemirror_mode": {
    "name": "ipython",
    "version": 3
   },
   "file_extension": ".py",
   "mimetype": "text/x-python",
   "name": "python",
   "nbconvert_exporter": "python",
   "pygments_lexer": "ipython3",
   "version": "3.7.0"
  }
 },
 "nbformat": 4,
 "nbformat_minor": 2
}
