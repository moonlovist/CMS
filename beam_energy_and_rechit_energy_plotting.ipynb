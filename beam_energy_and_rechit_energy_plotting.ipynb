{
 "cells": [
  {
   "cell_type": "code",
   "execution_count": 1,
   "metadata": {},
   "outputs": [],
   "source": [
    "import matplotlib.pyplot as plt\n",
    "import pandas as pd\n",
    "import geeksw.hgcal.testbeam as hgc"
   ]
  },
  {
   "cell_type": "code",
   "execution_count": 23,
   "metadata": {},
   "outputs": [],
   "source": [
    "beam_energies_pions_22b = pd.read_csv(\"pions_energy_sums.csv\").query('Configuration_type == \"22b\"').beam_energies\n",
    "beam_energies_pions_23b = pd.read_csv(\"pions_energy_sums.csv\").query('Configuration_type == \"23b\"').beam_energies\n",
    "beam_energies_pions_23c = pd.read_csv(\"pions_energy_sums.csv\").query('Configuration_type == \"23c\"').beam_energies\n",
    "beam_energies_pions_24a = pd.read_csv(\"pions_energy_sums.csv\").query('Configuration_type == \"24a\"').beam_energies\n",
    "beam_energies_pions_23b_23c = beam_energies_pions_23b.append(beam_energies_pions_23c)\n",
    "\n",
    "mean_rechit_sum_pions_22b = pd.read_csv(\"pions_energy_sums.csv\").query('Configuration_type == \"22b\"').mean_rechit_sum\n",
    "mean_rechit_sum_pions_23b = pd.read_csv(\"pions_energy_sums.csv\").query('Configuration_type == \"23b\"').mean_rechit_sum\n",
    "mean_rechit_sum_pions_23c = pd.read_csv(\"pions_energy_sums.csv\").query('Configuration_type == \"23c\"').mean_rechit_sum\n",
    "mean_rechit_sum_pions_23b_23c=mean_rechit_sum_pions_23b.append(mean_rechit_sum_pions_23c)\n",
    "mean_rechit_sum_pions_24a = pd.read_csv(\"pions_energy_sums.csv\").query('Configuration_type == \"24a\"').mean_rechit_sum\n",
    "\n",
    "beam_energies_electrons_22b = pd.read_csv(\"electron_energy_sums.csv\").query('Configuration_type == \"22b\"').beam_energies\n",
    "beam_energies_electrons_23c = pd.read_csv(\"electron_energy_sums.csv\").query('Configuration_type == \"23c\"').beam_energies\n",
    "beam_energies_electrons_24a = pd.read_csv(\"electron_energy_sums.csv\").query('Configuration_type == \"24a\"').beam_energies\n",
    "\n",
    "mean_rechit_sum_electrons_22b = pd.read_csv(\"electron_energy_sums.csv\").query('Configuration_type == \"22b\"').mean_rechit_sum\n",
    "mean_rechit_sum_electrons_23c = pd.read_csv(\"electron_energy_sums.csv\").query('Configuration_type == \"23c\"').mean_rechit_sum  \n",
    "mean_rechit_sum_electrons_24a = pd.read_csv(\"electron_energy_sums.csv\").query('Configuration_type == \"24a\"').mean_rechit_sum \n",
    "\n",
    "beam_energies_muons_22b = pd.read_csv(\"muons_energy_sums.csv\").query('Configuration_type == \"22b\"').beam_energies\n",
    "mean_rechit_sum_muons_22b = pd.read_csv(\"muons_energy_sums.csv\").query('Configuration_type == \"22b\"').mean_rechit_sum\n"
   ]
  },
  {
   "cell_type": "code",
   "execution_count": 34,
   "metadata": {},
   "outputs": [
    {
     "data": {
      "text/html": [
       "<div>\n",
       "<style scoped>\n",
       "    .dataframe tbody tr th:only-of-type {\n",
       "        vertical-align: middle;\n",
       "    }\n",
       "\n",
       "    .dataframe tbody tr th {\n",
       "        vertical-align: top;\n",
       "    }\n",
       "\n",
       "    .dataframe thead th {\n",
       "        text-align: right;\n",
       "    }\n",
       "</style>\n",
       "<table border=\"1\" class=\"dataframe\">\n",
       "  <thead>\n",
       "    <tr style=\"text-align: right;\">\n",
       "      <th></th>\n",
       "      <th>beam_energies_pions_24a</th>\n",
       "      <th>mean_rechit_sum_pions_24a</th>\n",
       "    </tr>\n",
       "  </thead>\n",
       "  <tbody>\n",
       "    <tr>\n",
       "      <th>0</th>\n",
       "      <td>30</td>\n",
       "      <td>470.242525</td>\n",
       "    </tr>\n",
       "    <tr>\n",
       "      <th>1</th>\n",
       "      <td>50</td>\n",
       "      <td>734.927086</td>\n",
       "    </tr>\n",
       "    <tr>\n",
       "      <th>2</th>\n",
       "      <td>80</td>\n",
       "      <td>2770.470797</td>\n",
       "    </tr>\n",
       "    <tr>\n",
       "      <th>3</th>\n",
       "      <td>100</td>\n",
       "      <td>1424.061478</td>\n",
       "    </tr>\n",
       "    <tr>\n",
       "      <th>4</th>\n",
       "      <td>120</td>\n",
       "      <td>1680.885307</td>\n",
       "    </tr>\n",
       "    <tr>\n",
       "      <th>5</th>\n",
       "      <td>150</td>\n",
       "      <td>2045.947960</td>\n",
       "    </tr>\n",
       "    <tr>\n",
       "      <th>6</th>\n",
       "      <td>200</td>\n",
       "      <td>2758.499109</td>\n",
       "    </tr>\n",
       "    <tr>\n",
       "      <th>7</th>\n",
       "      <td>250</td>\n",
       "      <td>3437.851228</td>\n",
       "    </tr>\n",
       "    <tr>\n",
       "      <th>8</th>\n",
       "      <td>300</td>\n",
       "      <td>2735.871417</td>\n",
       "    </tr>\n",
       "  </tbody>\n",
       "</table>\n",
       "</div>"
      ],
      "text/plain": [
       "   beam_energies_pions_24a  mean_rechit_sum_pions_24a\n",
       "0                       30                 470.242525\n",
       "1                       50                 734.927086\n",
       "2                       80                2770.470797\n",
       "3                      100                1424.061478\n",
       "4                      120                1680.885307\n",
       "5                      150                2045.947960\n",
       "6                      200                2758.499109\n",
       "7                      250                3437.851228\n",
       "8                      300                2735.871417"
      ]
     },
     "execution_count": 34,
     "metadata": {},
     "output_type": "execute_result"
    }
   ],
   "source": [
    "\n",
    "df = pd.DataFrame({\n",
    "    \"mean_rechit_sum_pions_24a\": mean_rechit_sum_pions_24a,\n",
    "    \"beam_energies_pions_24a\": beam_energies_pions_24a,\n",
    "})\n",
    "df = df.groupby(\"beam_energies_pions_24a\").mean_rechit_sum_pions_24a.mean()\n",
    "df = df.reset_index()\n",
    "df\n"
   ]
  },
  {
   "cell_type": "code",
   "execution_count": 35,
   "metadata": {
    "scrolled": true
   },
   "outputs": [
    {
     "data": {
      "image/png": "[encoded data removed]",
      "text/plain": [
       "<Figure size 432x288 with 1 Axes>"
      ]
     },
     "metadata": {
      "needs_background": "light"
     },
     "output_type": "display_data"
    }
   ],
   "source": [
    "fig1 = plt.figure()\n",
    "ax1 = fig1.add_subplot(111) \n",
    "ax1.set_xlabel('BeamEnergy-GeV')\n",
    "ax1.set_ylabel('Rechit_Energy_sum-GeV')\n",
    "#ax1.scatter(df.beam_energies_pions_22b, df.mean_rechit_sum_pions_22b, label=\"pions_22b\")\n",
    "#ax1.scatter(beam_energies_pions_23c, mean_rechit_sum_pions_23c, label=\"pions_23c\")\n",
    "#ax1.scatter(df.beam_energies_pions_23b_23c, df.mean_rechit_sum_pions_23b_23c, label=\"pions_23b_23c\")\n",
    "ax1.scatter(df.beam_energies_pions_24a, df.mean_rechit_sum_pions_24a, label=\"pions_24a\")\n",
    "plt.legend(loc=\"upper left\")\n",
    "plt.show()"
   ]
  },
  {
   "cell_type": "code",
   "execution_count": 4,
   "metadata": {},
   "outputs": [],
   "source": [
    "#hgc.runlist.groupby(\"Configuration\").apply(lambda x : x.Particle.value_counts())"
   ]
  },
  {
   "cell_type": "code",
   "execution_count": 44,
   "metadata": {},
   "outputs": [
    {
     "data": {
      "image/png": "[encoded data removed]",
      "text/plain": [
       "<Figure size 432x288 with 1 Axes>"
      ]
     },
     "metadata": {
      "needs_background": "light"
     },
     "output_type": "display_data"
    }
   ],
   "source": [
    "fig2 = plt.figure()\n",
    "ax2 = fig2.add_subplot(111)\n",
    "ax2.set_xlabel('BeamEnergy-GeV')\n",
    "ax2.set_ylabel('Rechit_Energy_sum-GeV')\n",
    "ax2.scatter(beam_energies_muons_22b, mean_rechit_sum_muons_22b, label=\"muons_22b\")\n",
    "plt.legend(loc=\"upper left\")\n",
    "plt.show()"
   ]
  },
  {
   "cell_type": "code",
   "execution_count": 49,
   "metadata": {},
   "outputs": [
    {
     "data": {
      "text/html": [
       "<div>\n",
       "<style scoped>\n",
       "    .dataframe tbody tr th:only-of-type {\n",
       "        vertical-align: middle;\n",
       "    }\n",
       "\n",
       "    .dataframe tbody tr th {\n",
       "        vertical-align: top;\n",
       "    }\n",
       "\n",
       "    .dataframe thead th {\n",
       "        text-align: right;\n",
       "    }\n",
       "</style>\n",
       "<table border=\"1\" class=\"dataframe\">\n",
       "  <thead>\n",
       "    <tr style=\"text-align: right;\">\n",
       "      <th></th>\n",
       "      <th>beam_energies_electrons_22b</th>\n",
       "      <th>mean_rechit_sum_electrons_22b</th>\n",
       "    </tr>\n",
       "  </thead>\n",
       "  <tbody>\n",
       "    <tr>\n",
       "      <th>0</th>\n",
       "      <td>20</td>\n",
       "      <td>1685.665800</td>\n",
       "    </tr>\n",
       "    <tr>\n",
       "      <th>1</th>\n",
       "      <td>30</td>\n",
       "      <td>2644.592457</td>\n",
       "    </tr>\n",
       "    <tr>\n",
       "      <th>2</th>\n",
       "      <td>50</td>\n",
       "      <td>4525.252259</td>\n",
       "    </tr>\n",
       "    <tr>\n",
       "      <th>3</th>\n",
       "      <td>80</td>\n",
       "      <td>7321.285623</td>\n",
       "    </tr>\n",
       "    <tr>\n",
       "      <th>4</th>\n",
       "      <td>100</td>\n",
       "      <td>9136.370998</td>\n",
       "    </tr>\n",
       "    <tr>\n",
       "      <th>5</th>\n",
       "      <td>120</td>\n",
       "      <td>10860.180436</td>\n",
       "    </tr>\n",
       "    <tr>\n",
       "      <th>6</th>\n",
       "      <td>150</td>\n",
       "      <td>13479.227017</td>\n",
       "    </tr>\n",
       "    <tr>\n",
       "      <th>7</th>\n",
       "      <td>200</td>\n",
       "      <td>18242.378909</td>\n",
       "    </tr>\n",
       "    <tr>\n",
       "      <th>8</th>\n",
       "      <td>250</td>\n",
       "      <td>22180.192881</td>\n",
       "    </tr>\n",
       "    <tr>\n",
       "      <th>9</th>\n",
       "      <td>300</td>\n",
       "      <td>26199.106697</td>\n",
       "    </tr>\n",
       "  </tbody>\n",
       "</table>\n",
       "</div>"
      ],
      "text/plain": [
       "   beam_energies_electrons_22b  mean_rechit_sum_electrons_22b\n",
       "0                           20                    1685.665800\n",
       "1                           30                    2644.592457\n",
       "2                           50                    4525.252259\n",
       "3                           80                    7321.285623\n",
       "4                          100                    9136.370998\n",
       "5                          120                   10860.180436\n",
       "6                          150                   13479.227017\n",
       "7                          200                   18242.378909\n",
       "8                          250                   22180.192881\n",
       "9                          300                   26199.106697"
      ]
     },
     "execution_count": 49,
     "metadata": {},
     "output_type": "execute_result"
    }
   ],
   "source": [
    "df = pd.DataFrame({\n",
    "    \"mean_rechit_sum_electrons_22b\": mean_rechit_sum_electrons_22b,\n",
    "    \"beam_energies_electrons_22b\": beam_energies_electrons_22b,\n",
    "})\n",
    "df = df.groupby(\"beam_energies_electrons_22b\").mean_rechit_sum_electrons_22b.mean()\n",
    "df = df.reset_index()\n",
    "df"
   ]
  },
  {
   "cell_type": "code",
   "execution_count": 51,
   "metadata": {},
   "outputs": [
    {
     "data": {
      "image/png": "[encoded data removed]",
      "text/plain": [
       "<Figure size 432x288 with 1 Axes>"
      ]
     },
     "metadata": {
      "needs_background": "light"
     },
     "output_type": "display_data"
    }
   ],
   "source": [
    "fig3 = plt.figure()\n",
    "ax3 = fig3.add_subplot(111)\n",
    "ax3.set_xlabel('BeamEnergy-GeV')\n",
    "ax3.set_ylabel('Rechit_Energy_sum-GeV')\n",
    "ax3.scatter(beam_energies_electrons_22b, mean_rechit_sum_electrons_22b, label=\"electrons_22b\")\n",
    "ax3.scatter(beam_energies_electrons_23c, mean_rechit_sum_electrons_23c, label=\"electrons_23c\")\n",
    "ax3.scatter(beam_energies_electrons_24a, mean_rechit_sum_electrons_24a, label=\"electrons_24a\")\n",
    "plt.legend(loc=\"upper left\")\n",
    "plt.show()"
   ]
  }
 ],
 "metadata": {
  "kernelspec": {
   "display_name": "Python 3",
   "language": "python",
   "name": "python3"
  },
  "language_info": {
   "codemirror_mode": {
    "name": "ipython",
    "version": 3
   },
   "file_extension": ".py",
   "mimetype": "text/x-python",
   "name": "python",
   "nbconvert_exporter": "python",
   "pygments_lexer": "ipython3",
   "version": "3.7.0"
  }
 },
 "nbformat": 4,
 "nbformat_minor": 2
}
