{
 "cells": [
  {
   "cell_type": "code",
   "execution_count": 3,
   "metadata": {},
   "outputs": [],
   "source": [
    "import numpy as np\n",
    "import pandas as pd\n",
    "import matplotlib.pyplot as plt\n",
    "import os\n",
    "import glob\n",
    "import geeksw.hgcal.testbeam as hgc\n",
    "import math"
   ]
  },
  {
   "cell_type": "code",
   "execution_count": 19,
   "metadata": {},
   "outputs": [
    {
     "data": {
      "text/html": [
       "<div>\n",
       "<style scoped>\n",
       "    .dataframe tbody tr th:only-of-type {\n",
       "        vertical-align: middle;\n",
       "    }\n",
       "\n",
       "    .dataframe tbody tr th {\n",
       "        vertical-align: top;\n",
       "    }\n",
       "\n",
       "    .dataframe thead th {\n",
       "        text-align: right;\n",
       "    }\n",
       "</style>\n",
       "<table border=\"1\" class=\"dataframe\">\n",
       "  <thead>\n",
       "    <tr style=\"text-align: right;\">\n",
       "      <th></th>\n",
       "      <th>Run</th>\n",
       "      <th>Date</th>\n",
       "      <th>Nevents</th>\n",
       "      <th>Particle</th>\n",
       "      <th>Energy</th>\n",
       "      <th>Configuration</th>\n",
       "      <th>CaloConfiguration</th>\n",
       "    </tr>\n",
       "    <tr>\n",
       "      <th>Energy</th>\n",
       "      <th></th>\n",
       "      <th></th>\n",
       "      <th></th>\n",
       "      <th></th>\n",
       "      <th></th>\n",
       "      <th></th>\n",
       "      <th></th>\n",
       "    </tr>\n",
       "  </thead>\n",
       "  <tbody>\n",
       "    <tr>\n",
       "      <th>20</th>\n",
       "      <td>437</td>\n",
       "      <td>2018-10-14 01:04:00</td>\n",
       "      <td>10274</td>\n",
       "      <td>electron</td>\n",
       "      <td>20</td>\n",
       "      <td>22b</td>\n",
       "      <td>1</td>\n",
       "    </tr>\n",
       "    <tr>\n",
       "      <th>30</th>\n",
       "      <td>595</td>\n",
       "      <td>2018-10-15 17:30:00</td>\n",
       "      <td>10291</td>\n",
       "      <td>electron</td>\n",
       "      <td>30</td>\n",
       "      <td>22b</td>\n",
       "      <td>1</td>\n",
       "    </tr>\n",
       "    <tr>\n",
       "      <th>50</th>\n",
       "      <td>457</td>\n",
       "      <td>2018-10-14 04:53:00</td>\n",
       "      <td>10050</td>\n",
       "      <td>electron</td>\n",
       "      <td>50</td>\n",
       "      <td>22b</td>\n",
       "      <td>1</td>\n",
       "    </tr>\n",
       "    <tr>\n",
       "      <th>80</th>\n",
       "      <td>467</td>\n",
       "      <td>2018-10-14 06:57:00</td>\n",
       "      <td>13423</td>\n",
       "      <td>electron</td>\n",
       "      <td>80</td>\n",
       "      <td>22b</td>\n",
       "      <td>1</td>\n",
       "    </tr>\n",
       "    <tr>\n",
       "      <th>100</th>\n",
       "      <td>479</td>\n",
       "      <td>2018-10-14 10:12:00</td>\n",
       "      <td>10240</td>\n",
       "      <td>electron</td>\n",
       "      <td>100</td>\n",
       "      <td>22b</td>\n",
       "      <td>1</td>\n",
       "    </tr>\n",
       "    <tr>\n",
       "      <th>120</th>\n",
       "      <td>621</td>\n",
       "      <td>2018-10-15 23:40:00</td>\n",
       "      <td>11361</td>\n",
       "      <td>electron</td>\n",
       "      <td>120</td>\n",
       "      <td>22b</td>\n",
       "      <td>1</td>\n",
       "    </tr>\n",
       "    <tr>\n",
       "      <th>150</th>\n",
       "      <td>494</td>\n",
       "      <td>2018-10-14 12:40:00</td>\n",
       "      <td>12220</td>\n",
       "      <td>electron</td>\n",
       "      <td>150</td>\n",
       "      <td>22b</td>\n",
       "      <td>1</td>\n",
       "    </tr>\n",
       "    <tr>\n",
       "      <th>200</th>\n",
       "      <td>665</td>\n",
       "      <td>2018-10-16 12:43:00</td>\n",
       "      <td>10239</td>\n",
       "      <td>electron</td>\n",
       "      <td>200</td>\n",
       "      <td>22b</td>\n",
       "      <td>1</td>\n",
       "    </tr>\n",
       "    <tr>\n",
       "      <th>250</th>\n",
       "      <td>385</td>\n",
       "      <td>2018-10-13 10:31:00</td>\n",
       "      <td>10161</td>\n",
       "      <td>electron</td>\n",
       "      <td>250</td>\n",
       "      <td>22b</td>\n",
       "      <td>1</td>\n",
       "    </tr>\n",
       "    <tr>\n",
       "      <th>300</th>\n",
       "      <td>406</td>\n",
       "      <td>2018-10-13 15:25:00</td>\n",
       "      <td>4619</td>\n",
       "      <td>electron</td>\n",
       "      <td>300</td>\n",
       "      <td>22b</td>\n",
       "      <td>1</td>\n",
       "    </tr>\n",
       "  </tbody>\n",
       "</table>\n",
       "</div>"
      ],
      "text/plain": [
       "        Run                 Date  Nevents  Particle  Energy Configuration  \\\n",
       "Energy                                                                      \n",
       "20      437  2018-10-14 01:04:00    10274  electron      20           22b   \n",
       "30      595  2018-10-15 17:30:00    10291  electron      30           22b   \n",
       "50      457  2018-10-14 04:53:00    10050  electron      50           22b   \n",
       "80      467  2018-10-14 06:57:00    13423  electron      80           22b   \n",
       "100     479  2018-10-14 10:12:00    10240  electron     100           22b   \n",
       "120     621  2018-10-15 23:40:00    11361  electron     120           22b   \n",
       "150     494  2018-10-14 12:40:00    12220  electron     150           22b   \n",
       "200     665  2018-10-16 12:43:00    10239  electron     200           22b   \n",
       "250     385  2018-10-13 10:31:00    10161  electron     250           22b   \n",
       "300     406  2018-10-13 15:25:00     4619  electron     300           22b   \n",
       "\n",
       "        CaloConfiguration  \n",
       "Energy                     \n",
       "20                      1  \n",
       "30                      1  \n",
       "50                      1  \n",
       "80                      1  \n",
       "100                     1  \n",
       "120                     1  \n",
       "150                     1  \n",
       "200                     1  \n",
       "250                     1  \n",
       "300                     1  "
      ]
     },
     "execution_count": 19,
     "metadata": {},
     "output_type": "execute_result"
    }
   ],
   "source": [
    "electron_runlist = hgc.runlist.query('Particle == \"electron\"')\n",
    "electron_runlist = electron_runlist.query('Configuration == \"22b\"') \n",
    "electron_runlist = hgc.runlist.query(\"Particle == 'electron'\").groupby(\"Energy\").apply(lambda x : x.iloc[1])\n",
    "energy = electron_runlist.Energy.values\n",
    "electron_runlist"
   ]
  },
  {
   "cell_type": "code",
   "execution_count": 6,
   "metadata": {},
   "outputs": [],
   "source": [
    "#electron_runlist = hgc.runlist.query('Particle == \"electron\"')\n",
    "#electron_runlist = electron_runlist.query('Configuration == \"22b\"') \n",
    "electron_runlist = hgc.runlist.query(\"Particle == 'electron'\").query('Configuration == \"22b\"')#.groupby(\"Energy\").apply(lambda x : x.iloc[[1,2,3,4]])\n"
   ]
  },
  {
   "cell_type": "code",
   "execution_count": 20,
   "metadata": {},
   "outputs": [
    {
     "name": "stdout",
     "output_type": "stream",
     "text": [
      "437\n",
      "595\n",
      "457\n",
      "467\n",
      "479\n",
      "621\n",
      "494\n",
      "665\n",
      "385\n",
      "406\n",
      "[9.09082225458222, 9.104581041180122, 9.398236626895638, 9.740197107742825, 9.973170437821704, 10.138682157188933, 10.37936209817057, 10.644386481883759, 11.05281922305998, 11.140902345596832]\n",
      "[ 20  30  50  80 100 120 150 200 250 300]\n"
     ]
    },
    {
     "data": {
      "text/plain": [
       "[9.09082225458222,\n",
       " 9.104581041180122,\n",
       " 9.398236626895638,\n",
       " 9.740197107742825,\n",
       " 9.973170437821704,\n",
       " 10.138682157188933,\n",
       " 10.37936209817057,\n",
       " 10.644386481883759,\n",
       " 11.05281922305998,\n",
       " 11.140902345596832]"
      ]
     },
     "execution_count": 20,
     "metadata": {},
     "output_type": "execute_result"
    }
   ],
   "source": [
    "run_numbers = electron_runlist.Run.values\n",
    "X0_meanvalue = []\n",
    "X0_variance = []\n",
    "for run in run_numbers:\n",
    "    hdf = hgc.load_run(run, columns = [\"beamEnergy\",\"event\", \"rechit_layer\", \"rechit_X0\", \"rechit_energy\"])\n",
    "    total_sum = hdf.groupby([\"event\", \"rechit_X0\"]).sum()\n",
    "    total_sum = total_sum.reset_index()\n",
    "    total_sum = total_sum.groupby(\"rechit_X0\").median()\n",
    "    total_sum = total_sum.reset_index()\n",
    "    total_sum[\"rechit_energy\"] = total_sum[\"rechit_energy\"]/total_sum[\"rechit_energy\"].sum()\n",
    "    rechitX0_sum = total_sum.rechit_X0\n",
    "    rechit_energy_sum = total_sum.rechit_energy\n",
    "    rechitX0_mean = (rechitX0_sum*rechit_energy_sum).sum()\n",
    "    #rechitX0_variance = rechitX0.rechit_X0.std()\n",
    "    X0_meanvalue.append(rechitX0_mean)\n",
    "    print (run)\n",
    "print (X0_meanvalue)\n",
    "print (energy)\n",
    "df = pd.DataFrame({\n",
    "    \"energy\" : energy,\n",
    "    \"X0_meanvalue\" : X0_meanvalue,\n",
    "    })\n",
    "#df.to_csv(\"Showermaximum_Beamenergy_plotting_electrons_22b.csv\")\n",
    "    #X0_variance.append(rechitX0_variance)\n",
    "X0_meanvalue"
   ]
  },
  {
   "cell_type": "code",
   "execution_count": 21,
   "metadata": {
    "scrolled": false
   },
   "outputs": [
    {
     "data": {
      "image/png": "[encoded data removed]",
      "text/plain": [
       "<Figure size 432x288 with 1 Axes>"
      ]
     },
     "metadata": {
      "needs_background": "light"
     },
     "output_type": "display_data"
    }
   ],
   "source": [
    "plt.scatter(energy, X0_meanvalue)\n",
    "plt.xlabel(\"Beam_energy\")\n",
    "plt.ylabel(\"Shower_maximum_position\")\n",
    "plt.title(\"Showermaximum Beamenergy plotting of electron\")\n",
    "plt.show()"
   ]
  },
  {
   "cell_type": "code",
   "execution_count": 22,
   "metadata": {},
   "outputs": [
    {
     "name": "stdout",
     "output_type": "stream",
     "text": [
      " \n",
      "0.8094 x + 6.374\n"
     ]
    },
    {
     "data": {
      "image/png": "[encoded data removed]",
      "text/plain": [
       "<Figure size 432x288 with 1 Axes>"
      ]
     },
     "metadata": {
      "needs_background": "light"
     },
     "output_type": "display_data"
    }
   ],
   "source": [
    "X0_meanvalue = df.groupby(\"energy\").X0_meanvalue.median()\n",
    "X0_meanvalue = X0_meanvalue.reset_index()\n",
    "X0_variance = df.groupby(\"energy\").X0_meanvalue.std()\n",
    "X0_variance = X0_variance.reset_index()\n",
    "beamenergy = df.groupby(\"energy\").median()\n",
    "beamenergy = beamenergy.reset_index()\n",
    "Beamenergy = []\n",
    "for energies in beamenergy.energy:\n",
    "    energies = math.log(energies)\n",
    "    Beamenergy.append(energies)\n",
    "plt.errorbar(Beamenergy, beamenergy.X0_meanvalue, yerr=X0_variance.X0_meanvalue, fmt=\"o\", linestyle='-', linewidth=1)\n",
    "plt.xlabel(\"ln(Beam_energy)\")\n",
    "plt.ylabel(\"Shower_maximum_position\")\n",
    "plt.title(\"Showermaximum Beamenergy plotting of electron\")\n",
    "z1=np.polyfit(Beamenergy, beamenergy.X0_meanvalue,1)\n",
    "p1=np.poly1d(z1)\n",
    "print(p1)\n",
    "yvals=p1(Beamenergy)\n",
    "plot1=plt.plot(Beamenergy, yvals)\n",
    "#plt.xlim(0,2.5)\n",
    "#plt.ylim(0,12)\n",
    "plt.show()"
   ]
  },
  {
   "cell_type": "code",
   "execution_count": 14,
   "metadata": {},
   "outputs": [
    {
     "data": {
      "text/html": [
       "<div>\n",
       "<style scoped>\n",
       "    .dataframe tbody tr th:only-of-type {\n",
       "        vertical-align: middle;\n",
       "    }\n",
       "\n",
       "    .dataframe tbody tr th {\n",
       "        vertical-align: top;\n",
       "    }\n",
       "\n",
       "    .dataframe thead th {\n",
       "        text-align: right;\n",
       "    }\n",
       "</style>\n",
       "<table border=\"1\" class=\"dataframe\">\n",
       "  <thead>\n",
       "    <tr style=\"text-align: right;\">\n",
       "      <th></th>\n",
       "      <th>Run</th>\n",
       "      <th>Date</th>\n",
       "      <th>Nevents</th>\n",
       "      <th>Particle</th>\n",
       "      <th>Energy</th>\n",
       "      <th>Configuration</th>\n",
       "      <th>CaloConfiguration</th>\n",
       "    </tr>\n",
       "    <tr>\n",
       "      <th>Energy</th>\n",
       "      <th></th>\n",
       "      <th></th>\n",
       "      <th></th>\n",
       "      <th></th>\n",
       "      <th></th>\n",
       "      <th></th>\n",
       "      <th></th>\n",
       "    </tr>\n",
       "  </thead>\n",
       "  <tbody>\n",
       "    <tr>\n",
       "      <th>20</th>\n",
       "      <td>437</td>\n",
       "      <td>2018-10-14 01:04:00</td>\n",
       "      <td>10274</td>\n",
       "      <td>electron</td>\n",
       "      <td>20</td>\n",
       "      <td>22b</td>\n",
       "      <td>1</td>\n",
       "    </tr>\n",
       "    <tr>\n",
       "      <th>30</th>\n",
       "      <td>595</td>\n",
       "      <td>2018-10-15 17:30:00</td>\n",
       "      <td>10291</td>\n",
       "      <td>electron</td>\n",
       "      <td>30</td>\n",
       "      <td>22b</td>\n",
       "      <td>1</td>\n",
       "    </tr>\n",
       "    <tr>\n",
       "      <th>50</th>\n",
       "      <td>457</td>\n",
       "      <td>2018-10-14 04:53:00</td>\n",
       "      <td>10050</td>\n",
       "      <td>electron</td>\n",
       "      <td>50</td>\n",
       "      <td>22b</td>\n",
       "      <td>1</td>\n",
       "    </tr>\n",
       "    <tr>\n",
       "      <th>80</th>\n",
       "      <td>467</td>\n",
       "      <td>2018-10-14 06:57:00</td>\n",
       "      <td>13423</td>\n",
       "      <td>electron</td>\n",
       "      <td>80</td>\n",
       "      <td>22b</td>\n",
       "      <td>1</td>\n",
       "    </tr>\n",
       "    <tr>\n",
       "      <th>100</th>\n",
       "      <td>479</td>\n",
       "      <td>2018-10-14 10:12:00</td>\n",
       "      <td>10240</td>\n",
       "      <td>electron</td>\n",
       "      <td>100</td>\n",
       "      <td>22b</td>\n",
       "      <td>1</td>\n",
       "    </tr>\n",
       "    <tr>\n",
       "      <th>120</th>\n",
       "      <td>621</td>\n",
       "      <td>2018-10-15 23:40:00</td>\n",
       "      <td>11361</td>\n",
       "      <td>electron</td>\n",
       "      <td>120</td>\n",
       "      <td>22b</td>\n",
       "      <td>1</td>\n",
       "    </tr>\n",
       "    <tr>\n",
       "      <th>150</th>\n",
       "      <td>494</td>\n",
       "      <td>2018-10-14 12:40:00</td>\n",
       "      <td>12220</td>\n",
       "      <td>electron</td>\n",
       "      <td>150</td>\n",
       "      <td>22b</td>\n",
       "      <td>1</td>\n",
       "    </tr>\n",
       "    <tr>\n",
       "      <th>200</th>\n",
       "      <td>665</td>\n",
       "      <td>2018-10-16 12:43:00</td>\n",
       "      <td>10239</td>\n",
       "      <td>electron</td>\n",
       "      <td>200</td>\n",
       "      <td>22b</td>\n",
       "      <td>1</td>\n",
       "    </tr>\n",
       "    <tr>\n",
       "      <th>250</th>\n",
       "      <td>385</td>\n",
       "      <td>2018-10-13 10:31:00</td>\n",
       "      <td>10161</td>\n",
       "      <td>electron</td>\n",
       "      <td>250</td>\n",
       "      <td>22b</td>\n",
       "      <td>1</td>\n",
       "    </tr>\n",
       "    <tr>\n",
       "      <th>300</th>\n",
       "      <td>406</td>\n",
       "      <td>2018-10-13 15:25:00</td>\n",
       "      <td>4619</td>\n",
       "      <td>electron</td>\n",
       "      <td>300</td>\n",
       "      <td>22b</td>\n",
       "      <td>1</td>\n",
       "    </tr>\n",
       "  </tbody>\n",
       "</table>\n",
       "</div>"
      ],
      "text/plain": [
       "        Run                 Date  Nevents  Particle  Energy Configuration  \\\n",
       "Energy                                                                      \n",
       "20      437  2018-10-14 01:04:00    10274  electron      20           22b   \n",
       "30      595  2018-10-15 17:30:00    10291  electron      30           22b   \n",
       "50      457  2018-10-14 04:53:00    10050  electron      50           22b   \n",
       "80      467  2018-10-14 06:57:00    13423  electron      80           22b   \n",
       "100     479  2018-10-14 10:12:00    10240  electron     100           22b   \n",
       "120     621  2018-10-15 23:40:00    11361  electron     120           22b   \n",
       "150     494  2018-10-14 12:40:00    12220  electron     150           22b   \n",
       "200     665  2018-10-16 12:43:00    10239  electron     200           22b   \n",
       "250     385  2018-10-13 10:31:00    10161  electron     250           22b   \n",
       "300     406  2018-10-13 15:25:00     4619  electron     300           22b   \n",
       "\n",
       "        CaloConfiguration  \n",
       "Energy                     \n",
       "20                      1  \n",
       "30                      1  \n",
       "50                      1  \n",
       "80                      1  \n",
       "100                     1  \n",
       "120                     1  \n",
       "150                     1  \n",
       "200                     1  \n",
       "250                     1  \n",
       "300                     1  "
      ]
     },
     "execution_count": 14,
     "metadata": {},
     "output_type": "execute_result"
    }
   ],
   "source": [
    "electron_runlist = hgc.runlist.query('Particle == \"electron\"')\n",
    "electron_runlist = electron_runlist.query('Configuration == \"22b\"') \n",
    "electron_runlist = hgc.runlist.query(\"Particle == 'electron'\").groupby(\"Energy\").apply(lambda x : x.iloc[1])\n",
    "energy = electron_runlist.Energy.values\n",
    "electron_runlist"
   ]
  },
  {
   "cell_type": "code",
   "execution_count": 15,
   "metadata": {},
   "outputs": [
    {
     "name": "stdout",
     "output_type": "stream",
     "text": [
      "[8.097662401539619, 8.475657934652116, 9.01699756948836, 9.504676733838453, 9.783597178467144, 9.986609474203666, 10.245811751295694, 10.542728132524413, 10.774445019103004, 10.920076712363864]\n",
      "[ 20  30  50  80 100 120 150 200 250 300]\n"
     ]
    },
    {
     "data": {
      "text/plain": [
       "[8.097662401539619,\n",
       " 8.475657934652116,\n",
       " 9.01699756948836,\n",
       " 9.504676733838453,\n",
       " 9.783597178467144,\n",
       " 9.986609474203666,\n",
       " 10.245811751295694,\n",
       " 10.542728132524413,\n",
       " 10.774445019103004,\n",
       " 10.920076712363864]"
      ]
     },
     "execution_count": 15,
     "metadata": {},
     "output_type": "execute_result"
    }
   ],
   "source": [
    "run_numbers = electron_runlist.Run.values\n",
    "X0_meanvalue = []\n",
    "X0_variance = []\n",
    "for run in run_numbers:\n",
    "    hdf = hgc.load_run(run, columns = [\"beamEnergy\",\"event\", \"rechit_layer\", \"rechit_X0\", \"rechit_energy\"])\n",
    "    x0_max = hdf.query(\"rechit_layer == 28\").rechit_X0.values[0]\n",
    "    total_sum = hdf.groupby([\"event\", \"rechit_X0\"]).sum()\n",
    "    total_sum = total_sum.reset_index()\n",
    "    total_sum = total_sum.groupby(\"rechit_X0\").median()\n",
    "    total_sum = total_sum.reset_index()\n",
    "    total_sum = total_sum[total_sum.rechit_X0 <= x0_max]\n",
    "    total_sum[\"rechit_energy\"] = total_sum[\"rechit_energy\"]/total_sum[\"rechit_energy\"].sum()\n",
    "    rechitX0_sum = total_sum.rechit_X0\n",
    "    rechit_energy_sum = total_sum.rechit_energy\n",
    "    rechitX0_mean = (rechitX0_sum*rechit_energy_sum).sum()\n",
    "    #rechitX0_variance = rechitX0.rechit_X0.std()\n",
    "    X0_meanvalue.append(rechitX0_mean)\n",
    "print (X0_meanvalue)\n",
    "print (energy)\n",
    "df = pd.DataFrame({\n",
    "    \"energy\" : energy,\n",
    "    \"X0_meanvalue\" : X0_meanvalue,\n",
    "    })\n",
    "#df.to_csv(\"Showermaximum_Beamenergy_plotting_electrons_22b.csv\")\n",
    "    #X0_variance.append(rechitX0_variance)\n",
    "X0_meanvalue"
   ]
  },
  {
   "cell_type": "code",
   "execution_count": 16,
   "metadata": {},
   "outputs": [
    {
     "data": {
      "image/png": "[encoded data removed]",
      "text/plain": [
       "<Figure size 432x288 with 1 Axes>"
      ]
     },
     "metadata": {
      "needs_background": "light"
     },
     "output_type": "display_data"
    }
   ],
   "source": [
    "plt.scatter(energy, X0_meanvalue)\n",
    "plt.xlabel(\"Beam_energy\")\n",
    "plt.ylabel(\"Shower_maximum_position\")\n",
    "plt.title(\"Showermaximum Beamenergy plotting of electron\")\n",
    "plt.show()"
   ]
  },
  {
   "cell_type": "code",
   "execution_count": 17,
   "metadata": {},
   "outputs": [
    {
     "name": "stdout",
     "output_type": "stream",
     "text": [
      " \n",
      "1.068 x + 4.865\n"
     ]
    },
    {
     "data": {
      "image/png": "[encoded data removed]",
      "text/plain": [
       "<Figure size 432x288 with 1 Axes>"
      ]
     },
     "metadata": {
      "needs_background": "light"
     },
     "output_type": "display_data"
    }
   ],
   "source": [
    "X0_meanvalue = df.groupby(\"energy\").X0_meanvalue.median()\n",
    "X0_meanvalue = X0_meanvalue.reset_index()\n",
    "X0_variance = df.groupby(\"energy\").X0_meanvalue.std()\n",
    "X0_variance = X0_variance.reset_index()\n",
    "beamenergy = df.groupby(\"energy\").median()\n",
    "beamenergy = beamenergy.reset_index()\n",
    "Beamenergy = []\n",
    "for energies in beamenergy.energy:\n",
    "    energies = math.log(energies)\n",
    "    Beamenergy.append(energies)\n",
    "plt.errorbar(Beamenergy, beamenergy.X0_meanvalue, yerr=X0_variance.X0_meanvalue, fmt=\"o\", linestyle='-', linewidth=1)\n",
    "plt.xlabel(\"ln(Beam_energy)\")\n",
    "plt.ylabel(\"Shower_maximum_position\")\n",
    "plt.title(\"Showermaximum Beamenergy plotting of electron\")\n",
    "z1=np.polyfit(Beamenergy, beamenergy.X0_meanvalue,1)\n",
    "p1=np.poly1d(z1)\n",
    "print(p1)\n",
    "yvals=p1(Beamenergy)\n",
    "plot1=plt.plot(Beamenergy, yvals)\n",
    "#plt.xlim(0,2.5)\n",
    "#plt.ylim(0,12)\n",
    "plt.show()"
   ]
  }
 ],
 "metadata": {
  "kernelspec": {
   "display_name": "Python 3",
   "language": "python",
   "name": "python3"
  },
  "language_info": {
   "codemirror_mode": {
    "name": "ipython",
    "version": 3
   },
   "file_extension": ".py",
   "mimetype": "text/x-python",
   "name": "python",
   "nbconvert_exporter": "python",
   "pygments_lexer": "ipython3",
   "version": "3.7.0"
  }
 },
 "nbformat": 4,
 "nbformat_minor": 2
}
