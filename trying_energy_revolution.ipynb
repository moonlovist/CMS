{
 "cells": [
  {
   "cell_type": "code",
   "execution_count": 1,
   "metadata": {},
   "outputs": [],
   "source": [
    "import numpy as np\n",
    "import pandas as pd\n",
    "import matplotlib.pyplot as plt\n",
    "import os\n",
    "import glob\n",
    "import geeksw.hgcal.testbeam as hgc\n",
    "import scipy\n",
    "from scipy.optimize import curve_fit\n",
    "from scipy.special import erf"
   ]
  },
  {
   "cell_type": "code",
   "execution_count": 2,
   "metadata": {},
   "outputs": [
    {
     "data": {
      "text/plain": [
       "[20, 30, 50, 80, 100, 120, 150, 200, 250, 300]"
      ]
     },
     "execution_count": 2,
     "metadata": {},
     "output_type": "execute_result"
    }
   ],
   "source": [
    "h=list(hgc.runlist.query(\"Particle == 'electron'\").groupby(\"Energy\").mean().reset_index().Energy)\n",
    "h"
   ]
  },
  {
   "cell_type": "code",
   "execution_count": 3,
   "metadata": {},
   "outputs": [],
   "source": [
    "def grindhammer(t, alpha, beta, E):\n",
    "    return E * ((beta*t)**(alpha-1)*beta*np.exp(-beta*t)) / scipy.special.gamma(alpha)\n",
    "def f(x, mu, sigma, N):\n",
    "    return N * np.exp(-(x - mu)**2/(2*sigma**2))\n",
    "def fitting(X0, energy):\n",
    "    return curve_fit(grindhammer, X0, energy)"
   ]
  },
  {
   "cell_type": "code",
   "execution_count": 4,
   "metadata": {},
   "outputs": [],
   "source": [
    "def gaus(x,mu, sigma, A ):\n",
    "    return A * np.exp(-0.5 * ((x - mu) / sigma) ** 2)\n",
    "\n",
    "\n",
    "def crystalball(x,n,a ,  xb, sig):\n",
    "    x = x + 0j\n",
    "    if a < 0:\n",
    "        a = -a\n",
    "    if n < 0:\n",
    "        n = -n\n",
    "    aa = abs(a)\n",
    "    A = (n / aa) ** n * np.exp(-aa ** 2 / 2)\n",
    "    B = n / aa - aa\n",
    "    C = n / aa * 1 / (n - 1) * np.exp(-aa ** 2 / 2)\n",
    "    D = np.sqrt(np.pi / 2) * (1 + erf(aa / np.sqrt(2)))\n",
    "    N = 1.0 / (sig * (C + D))\n",
    "    total = 0.0 * x\n",
    "    total += ((x - xb) / sig > -a) * N * np.exp(-(x - xb) ** 2 / (2.0 * sig ** 2))\n",
    "    total += ((x - xb) / sig <= -a) * N * A * (B - (x - xb) / sig) ** (-n)\n",
    "    return total.real\n",
    "    try:\n",
    "        return total.real\n",
    "    except:\n",
    "        return total\n",
    "    return total\n",
    "\n",
    "\n",
    "def gausexp(x,  mu, sigma, N,k):\n",
    "    if k < 0:\n",
    "        k = -k\n",
    "\n",
    "    total = 0.0 * x\n",
    "    total += ((x - mu) / sigma > -k) * N * np.exp(-(x - mu) ** 2 / (2.0 * sigma ** 2))\n",
    "    total += ((x - mu) / sigma <= -k) * N * np.exp(k ** 2 / 2.0 + k * ((x - mu) / sigma))\n",
    "\n",
    "    return total"
   ]
  },
  {
   "cell_type": "code",
   "execution_count": 5,
   "metadata": {},
   "outputs": [],
   "source": [
    "#electron_runlist = hgc.runlist.query(\"Energy == '250'\").query(\"Particle == 'electron'\")#.apply(lambda x : x.iloc[1,2,3,4])\n",
    "#electron_runlist"
   ]
  },
  {
   "cell_type": "code",
   "execution_count": 23,
   "metadata": {},
   "outputs": [
    {
     "name": "stdout",
     "output_type": "stream",
     "text": [
      "[20, 30, 50, 80, 100, 120, 150, 200, 250, 300]\n",
      "1\n",
      "2\n",
      "[0.05124157872110611, 0.05613627816548983]\n",
      "20\n",
      "1\n",
      "2\n",
      "[0.047184871401137404, 0.0463756287361423]\n",
      "30\n",
      "1\n",
      "2\n",
      "[0.03814485789829977, -0.26595122353627876]\n",
      "50\n",
      "1\n",
      "2\n",
      "[0.03466033839647222, -0.03611095780767229]\n",
      "80\n",
      "1\n",
      "2\n",
      "[-0.028165173145523886, 0.028073337377025716]\n",
      "100\n",
      "1\n",
      "2\n",
      "[0.026876288716087653, 0.02498590453266187]\n",
      "120\n",
      "1\n",
      "2\n",
      "[0.024249292314215614, -0.027266531164751563]\n",
      "150\n",
      "1\n",
      "2\n",
      "[-0.0006768634274072481, -0.0066542470653354075]\n",
      "200\n",
      "1\n",
      "2\n",
      "[-0.046588718307864464, 0.017740586850239038]\n",
      "250\n",
      "1\n",
      "2\n",
      "[0.016131629306498245, 0.016750995487598244]\n",
      "300\n"
     ]
    }
   ],
   "source": [
    "query_number = list(hgc.runlist.query(\"Particle == 'electron'\").query(\"Configuration == '22b'\").groupby(\"Energy\").mean().reset_index().Energy)\n",
    "print (query_number)\n",
    "resolution_mean = []\n",
    "resolution_variance = []\n",
    "for i in range(len(query_number)):\n",
    "    h = int(query_number[i])\n",
    "    electron_runlist = hgc.runlist.query(f\"Energy == {h}\").query(\"Particle == 'electron'\").query(\"Configuration == '22b'\")#.apply(lambda x : x.iloc[1,2,3,4])\n",
    "    Resolution = []\n",
    "    run_numbers = electron_runlist.Run.values[:2]\n",
    "    for run in run_numbers:\n",
    "        hdf = hgc.load_run(run, columns = [\"beamEnergy\",\"event\", \"rechit_layer\", \"rechit_energy\", \"rechit_X0\", \"rechit_dE\"])\n",
    "        rechit_energy_sum = hdf.groupby(\"event\").rechit_energy.sum()\n",
    "        rechit_energy_sum = rechit_energy_sum.reset_index()\n",
    "        p = pd.DataFrame.quantile(rechit_energy_sum,[0.16,1.0])\n",
    "        k1 = p.rechit_energy[0.16]\n",
    "        k2 = p.rechit_energy[1.0]\n",
    "        bins = np.linspace(k1, k2, 50)\n",
    "        npoints, bin_edges = list(np.histogram(rechit_energy_sum.rechit_energy, bins=bins))\n",
    "        bin_centers = (bin_edges[1:] + bin_edges[:-1])/2.\n",
    "        bin_centers = bin_centers/np.median(bin_centers)\n",
    "        npoints = npoints/np.sum(npoints)#0.2 [0.77, 0.016, 0.17, 1.12874385e-08]\n",
    "        popt, pcov = curve_fit(gausexp, bin_centers, npoints, p0 = [0.85, 0.016, 0.17, 0.02], maxfev = 20000)#\n",
    "        if popt[1]/popt[0]>0.1:\n",
    "            popt, pcov = curve_fit(gausexp, bin_centers, npoints, p0 = [0.77, 0.016, 0.17, 1.12874385e-08], maxfev = 200000)\n",
    "        Resolution.append(popt[1]/popt[0])\n",
    "        print (len(Resolution))\n",
    "        #print (popt)\n",
    "    print (Resolution)\n",
    "    res_mean = np.mean(np.abs(Resolution))\n",
    "    res_variance = np.std(Resolution)\n",
    "    resolution_mean = np.append(resolution_mean, res_mean)\n",
    "    resolution_variance = np.append(resolution_variance, res_variance)\n",
    "    #resolution_mean.append(res_mean)\n",
    "    #res_variance.append(res_variance)\n",
    "    print (h)\n",
    "\n",
    "    "
   ]
  },
  {
   "cell_type": "code",
   "execution_count": 24,
   "metadata": {},
   "outputs": [
    {
     "data": {
      "image/png": "[encoded data removed]",
      "text/plain": [
       "<Figure size 432x288 with 1 Axes>"
      ]
     },
     "metadata": {
      "needs_background": "light"
     },
     "output_type": "display_data"
    }
   ],
   "source": [
    "plt.errorbar(query_number, resolution_mean, yerr=resolution_variance, fmt='o', markersize=4, color='k')\n",
    "plt.xlabel(\"Beam_energy\")\n",
    "plt.ylabel(\"Energy resolution fraction\")\n",
    "plt.show()"
   ]
  },
  {
   "cell_type": "code",
   "execution_count": 9,
   "metadata": {},
   "outputs": [
    {
     "data": {
      "text/plain": [
       "<ErrorbarContainer object of 3 artists>"
      ]
     },
     "execution_count": 9,
     "metadata": {},
     "output_type": "execute_result"
    },
    {
     "data": {
      "image/png": "[encoded data removed]",
      "text/plain": [
       "<Figure size 432x288 with 1 Axes>"
      ]
     },
     "metadata": {
      "needs_background": "light"
     },
     "output_type": "display_data"
    }
   ],
   "source": [
    "plt.errorbar(query_number, resolution_mean, yerr=resolution_variance, fmt='o', markersize=4, color='k')"
   ]
  },
  {
   "cell_type": "code",
   "execution_count": 8,
   "metadata": {},
   "outputs": [
    {
     "data": {
      "text/plain": [
       "[<matplotlib.lines.Line2D at 0x7fbac056e588>]"
      ]
     },
     "execution_count": 8,
     "metadata": {},
     "output_type": "execute_result"
    },
    {
     "data": {
      "image/png": "[encoded data removed]",
      "text/plain": [
       "<Figure size 432x288 with 1 Axes>"
      ]
     },
     "metadata": {
      "needs_background": "light"
     },
     "output_type": "display_data"
    }
   ],
   "source": [
    "plt.plot(query_number, resolution_mean)"
   ]
  },
  {
   "cell_type": "code",
   "execution_count": 10,
   "metadata": {},
   "outputs": [
    {
     "data": {
      "text/plain": [
       "array([0.03560829, 0.00139691, 0.00956196, 0.04576815, 0.01520897,\n",
       "       0.00284454, 0.0049626 , 0.00799573, 0.0075756 , 0.0409652 ])"
      ]
     },
     "execution_count": 10,
     "metadata": {},
     "output_type": "execute_result"
    }
   ],
   "source": [
    "resolution_variance"
   ]
  },
  {
   "cell_type": "code",
   "execution_count": 11,
   "metadata": {},
   "outputs": [
    {
     "data": {
      "text/plain": [
       "array([0.04732287, 0.04658239, 0.03942737, 0.01908545, 0.0355248 ,\n",
       "       0.02831338, 0.03137184, 0.03244985, 0.02391529, 0.01473165])"
      ]
     },
     "execution_count": 11,
     "metadata": {},
     "output_type": "execute_result"
    }
   ],
   "source": [
    "resolution_mean"
   ]
  },
  {
   "cell_type": "code",
   "execution_count": 27,
   "metadata": {},
   "outputs": [
    {
     "ename": "SyntaxError",
     "evalue": "unexpected EOF while parsing (<ipython-input-27-c062052d010f>, line 1)",
     "output_type": "error",
     "traceback": [
      "\u001b[0;36m  File \u001b[0;32m\"<ipython-input-27-c062052d010f>\"\u001b[0;36m, line \u001b[0;32m1\u001b[0m\n\u001b[0;31m    plt.errorbar(query_number[:7], np.abs(resolution_mean), yerr=np.abs(resolution_variance, fmt='o', markersize=4, color='k')\u001b[0m\n\u001b[0m                                                                                                                              ^\u001b[0m\n\u001b[0;31mSyntaxError\u001b[0m\u001b[0;31m:\u001b[0m unexpected EOF while parsing\n"
     ]
    }
   ],
   "source": [
    "plt.errorbar(query_number, np.abs(resolution_mean), yerr=np.abs(resolution_variance, fmt='o', markersize=4, color='k')"
   ]
  },
  {
   "cell_type": "code",
   "execution_count": 22,
   "metadata": {},
   "outputs": [
    {
     "data": {
      "text/plain": [
       "array([384, 385, 386, 389, 390, 391, 392, 393, 397, 398])"
      ]
     },
     "execution_count": 22,
     "metadata": {},
     "output_type": "execute_result"
    }
   ],
   "source": [
    "#run_numbers = electron_runlist.Run.values[:10]\n",
    "#run_numbers"
   ]
  },
  {
   "cell_type": "code",
   "execution_count": 5,
   "metadata": {},
   "outputs": [
    {
     "name": "stdout",
     "output_type": "stream",
     "text": [
      "[0.7470814  0.01515818 0.18245261 0.1438458 ]\n",
      "1\n",
      "[ 0.93301785 -0.04428979  0.0552244   3.80619264]\n",
      "2\n",
      "[ 0.71819386 -0.03362055  0.17680969  3.72899849]\n",
      "3\n",
      "[0.7495951  0.01437144 0.18146976 0.13618177]\n",
      "4\n",
      "[0.7533551  0.01503063 0.1791988  0.14205082]\n",
      "5\n",
      "[1.02692091 0.01550928 0.03392685 0.09805214]\n",
      "6\n",
      "[1.07763752e+01 7.28381149e+00 2.03998052e-02 1.03978589e-08]\n",
      "7\n",
      "[1.09825472e+01 9.06466031e+00 2.04148815e-02 2.11827578e-07]\n",
      "8\n",
      "[ 1.10804649e+01  9.41712344e+00  2.04195065e-02 -2.15817566e-07]\n",
      "9\n",
      "[ 1.07673312e+01  6.84570112e+00  2.04026165e-02 -1.25332339e-07]\n",
      "10\n"
     ]
    }
   ],
   "source": [
    "Resolution = []\n",
    "run_numbers = electron_runlist.Run.values[:10]\n",
    "for run in run_numbers:\n",
    "    hdf = hgc.load_run(run, columns = [\"beamEnergy\",\"event\", \"rechit_layer\", \"rechit_energy\", \"rechit_X0\", \"rechit_dE\"])\n",
    "    rechit_energy_sum = hdf.groupby(\"event\").rechit_energy.sum()\n",
    "    rechit_energy_sum = rechit_energy_sum.reset_index()\n",
    "    p = pd.DataFrame.quantile(rechit_energy_sum,[0.16,1.0])\n",
    "    k1 = p.rechit_energy[0.16]\n",
    "    k2 = p.rechit_energy[1.0]\n",
    "    bins = np.linspace(k1, k2, 50)\n",
    "    npoints, bin_edges = list(np.histogram(rechit_energy_sum.rechit_energy, bins=bins))\n",
    "    bin_centers = (bin_edges[1:] + bin_edges[:-1])/2.\n",
    "    bin_centers = bin_centers/np.median(bin_centers)\n",
    "    npoints = npoints/np.sum(npoints)\n",
    "    #popt, pcov = curve_fit(f, bin_centers, npoints, p0 = [22000,1000,300], maxfev = 20000)\n",
    "    popt, pcov = curve_fit(gausexp, bin_centers, npoints, maxfev = 2000)#, p0 = [0.77, 0.02, 0.17, 0.20]\n",
    "    print (popt)\n",
    "    Resolution.append(popt[1]/popt[0])\n",
    "    print (len(Resolution))"
   ]
  },
  {
   "cell_type": "code",
   "execution_count": 6,
   "metadata": {},
   "outputs": [
    {
     "data": {
      "text/plain": [
       "[0.02028986692019114,\n",
       " -0.0474693930202513,\n",
       " -0.04681264556774179,\n",
       " 0.019172273324647514,\n",
       " 0.019951581192562778,\n",
       " 0.015102705336843015,\n",
       " 0.675905519453727,\n",
       " 0.8253695705776395,\n",
       " 0.8498852289298167,\n",
       " 0.6357843897237814]"
      ]
     },
     "execution_count": 6,
     "metadata": {},
     "output_type": "execute_result"
    }
   ],
   "source": [
    "Resolution"
   ]
  },
  {
   "cell_type": "code",
   "execution_count": null,
   "metadata": {},
   "outputs": [],
   "source": []
  },
  {
   "cell_type": "code",
   "execution_count": null,
   "metadata": {},
   "outputs": [],
   "source": []
  },
  {
   "cell_type": "code",
   "execution_count": 9,
   "metadata": {},
   "outputs": [
    {
     "name": "stdout",
     "output_type": "stream",
     "text": [
      "1\n",
      "2\n",
      "3\n",
      "4\n",
      "5\n",
      "6\n",
      "7\n",
      "8\n",
      "9\n",
      "10\n"
     ]
    },
    {
     "data": {
      "image/png": "[encoded data removed]",
      "text/plain": [
       "<Figure size 432x288 with 1 Axes>"
      ]
     },
     "metadata": {
      "needs_background": "light"
     },
     "output_type": "display_data"
    },
    {
     "data": {
      "image/png": "[encoded data removed]",
      "text/plain": [
       "<Figure size 432x288 with 1 Axes>"
      ]
     },
     "metadata": {
      "needs_background": "light"
     },
     "output_type": "display_data"
    },
    {
     "data": {
      "image/png": "[encoded data removed]",
      "text/plain": [
       "<Figure size 432x288 with 1 Axes>"
      ]
     },
     "metadata": {
      "needs_background": "light"
     },
     "output_type": "display_data"
    },
    {
     "data": {
      "image/png": "[encoded data removed]",
      "text/plain": [
       "<Figure size 432x288 with 1 Axes>"
      ]
     },
     "metadata": {
      "needs_background": "light"
     },
     "output_type": "display_data"
    },
    {
     "data": {
      "image/png": "[encoded data removed]",
      "text/plain": [
       "<Figure size 432x288 with 1 Axes>"
      ]
     },
     "metadata": {
      "needs_background": "light"
     },
     "output_type": "display_data"
    },
    {
     "data": {
      "image/png": "[encoded data removed]",
      "text/plain": [
       "<Figure size 432x288 with 1 Axes>"
      ]
     },
     "metadata": {
      "needs_background": "light"
     },
     "output_type": "display_data"
    },
    {
     "data": {
      "image/png": "[encoded data removed]",
      "text/plain": [
       "<Figure size 432x288 with 1 Axes>"
      ]
     },
     "metadata": {
      "needs_background": "light"
     },
     "output_type": "display_data"
    },
    {
     "data": {
      "image/png": "[encoded data removed]",
      "text/plain": [
       "<Figure size 432x288 with 1 Axes>"
      ]
     },
     "metadata": {
      "needs_background": "light"
     },
     "output_type": "display_data"
    },
    {
     "data": {
      "image/png": "[encoded data removed]",
      "text/plain": [
       "<Figure size 432x288 with 1 Axes>"
      ]
     },
     "metadata": {
      "needs_background": "light"
     },
     "output_type": "display_data"
    },
    {
     "data": {
      "image/png": "[encoded data removed]",
      "text/plain": [
       "<Figure size 432x288 with 1 Axes>"
      ]
     },
     "metadata": {
      "needs_background": "light"
     },
     "output_type": "display_data"
    }
   ],
   "source": [
    "Resolution_2 = []\n",
    "run_numbers = electron_runlist.Run.values[:10]\n",
    "for run in run_numbers:\n",
    "    hdf = hgc.load_run(run, columns = [\"beamEnergy\",\"event\", \"rechit_layer\", \"rechit_energy\", \"rechit_X0\", \"rechit_dE\"])\n",
    "    E = []\n",
    "    p0 = [5.47, 0.5, 23000]\n",
    "    for i in range(0,1000): \n",
    "        hdff = hdf.loc[i]\n",
    "        hdff = hdff.groupby(\"rechit_X0\").sum()\n",
    "        hdff = hdff.reset_index()\n",
    "        popt, pcov = curve_fit(grindhammer, hdff.rechit_X0, hdff.rechit_energy, p0, maxfev = 20000)\n",
    "        E.append(popt[2])\n",
    "    E = pd.DataFrame(data = dict(x=E))\n",
    "    p = pd.DataFrame.quantile(E,[0.16,0.99])\n",
    "    p1 = p.x[0.16]\n",
    "    p2 = p.x[0.99]\n",
    "    bins = np.linspace(p1, p2, 50)\n",
    "    E.hist(bins=bins)\n",
    "    npoints, bin_edges = list(np.histogram(E, bins=bins))\n",
    "    bin_centers = (bin_edges[1:] + bin_edges[:-1])/2.\n",
    "    popt, pcov = curve_fit(f, bin_centers, npoints, p0 = [22000,1000,300], maxfev = 20000)\n",
    "    Resolution_2.append(popt[1]/popt[0])\n",
    "    print (len(Resolution_2))\n"
   ]
  },
  {
   "cell_type": "code",
   "execution_count": 10,
   "metadata": {},
   "outputs": [
    {
     "data": {
      "text/plain": [
       "[0.04945005721594409,\n",
       " 0.047929781606112706,\n",
       " 0.04479090888716153,\n",
       " 0.04677893184941904,\n",
       " 0.053182814329300915,\n",
       " 0.047941979265107626,\n",
       " 0.04812285075477356,\n",
       " 0.050396834578624004,\n",
       " 0.0448664182632021,\n",
       " 0.05015769390264882]"
      ]
     },
     "execution_count": 10,
     "metadata": {},
     "output_type": "execute_result"
    }
   ],
   "source": [
    "Resolution_2"
   ]
  },
  {
   "cell_type": "code",
   "execution_count": null,
   "metadata": {},
   "outputs": [],
   "source": [
    "elif (0.88>popt[0]>0.83):\n",
    "            popt, pcov = curve_fit(gausexp, bin_centers, npoints, p0 = [0.83, 0.016, 0.17, 1.12874385e-08], maxfev = 20000)\n",
    "        elif (0.93>popt[0]>0.88):\n",
    "            popt, pcov = curve_fit(gausexp, bin_centers, npoints, p0 = [0.88, 0.016, 0.17, 1.12874385e-08], maxfev = 20000)\n",
    "        elif (0.98>popt[0]>0.93):\n",
    "            popt, pcov = curve_fit(gausexp, bin_centers, npoints, p0 = [0.93, 0.016, 0.17, 1.12874385e-08], maxfev = 20000)\n",
    "        elif (1.03>popt[0]>0.98):\n",
    "            popt, pcov = curve_fit(gausexp, bin_centers, npoints, p0 = [0.98, 0.016, 0.17, 1.12874385e-08], maxfev = 20000)\n",
    "        elif (popt[0]>1.03):\n",
    "            popt, pcov = curve_fit(gausexp, bin_centers, npoints, p0 = [1.03, 0.016, 0.17, 1.12874385e-08], maxfev = 20000)"
   ]
  }
 ],
 "metadata": {
  "kernelspec": {
   "display_name": "Python 3",
   "language": "python",
   "name": "python3"
  },
  "language_info": {
   "codemirror_mode": {
    "name": "ipython",
    "version": 3
   },
   "file_extension": ".py",
   "mimetype": "text/x-python",
   "name": "python",
   "nbconvert_exporter": "python",
   "pygments_lexer": "ipython3",
   "version": "3.7.0"
  }
 },
 "nbformat": 4,
 "nbformat_minor": 2
}
