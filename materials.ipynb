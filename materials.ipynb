{
 "cells": [
  {
   "cell_type": "code",
   "execution_count": 1,
   "metadata": {},
   "outputs": [],
   "source": [
    "import geeksw.hgcal.testbeam as hgc\n",
    "import pandas as pd\n",
    "import io\n",
    "import requests"
   ]
  },
  {
   "cell_type": "code",
   "execution_count": 2,
   "metadata": {},
   "outputs": [],
   "source": [
    "url = \"https://raw.githubusercontent.com/guitargeek/geeksw/master/geeksw/hgcal/data/materials1.csv\"\n",
    "s = requests.get(url).content\n",
    "df = pd.read_csv(io.StringIO(s.decode('utf-8')))\n",
    "df.index.name = 'material' and 'distance'"
   ]
  },
  {
   "cell_type": "code",
   "execution_count": 3,
   "metadata": {},
   "outputs": [
    {
     "data": {
      "text/html": [
       "<div>\n",
       "<style scoped>\n",
       "    .dataframe tbody tr th:only-of-type {\n",
       "        vertical-align: middle;\n",
       "    }\n",
       "\n",
       "    .dataframe tbody tr th {\n",
       "        vertical-align: top;\n",
       "    }\n",
       "\n",
       "    .dataframe thead th {\n",
       "        text-align: right;\n",
       "    }\n",
       "</style>\n",
       "<table border=\"1\" class=\"dataframe\">\n",
       "  <thead>\n",
       "    <tr style=\"text-align: right;\">\n",
       "      <th></th>\n",
       "      <th>Material</th>\n",
       "      <th>distance</th>\n",
       "      <th>Density</th>\n",
       "      <th>density*distance</th>\n",
       "    </tr>\n",
       "  </thead>\n",
       "  <tbody>\n",
       "    <tr>\n",
       "      <th>0</th>\n",
       "      <td>Air</td>\n",
       "      <td>772.93</td>\n",
       "      <td>1.1839</td>\n",
       "      <td>915.071827</td>\n",
       "    </tr>\n",
       "    <tr>\n",
       "      <th>1</th>\n",
       "      <td>Al</td>\n",
       "      <td>4.20</td>\n",
       "      <td>2.7100</td>\n",
       "      <td>11.382000</td>\n",
       "    </tr>\n",
       "    <tr>\n",
       "      <th>2</th>\n",
       "      <td>Cu</td>\n",
       "      <td>190.40</td>\n",
       "      <td>8.9600</td>\n",
       "      <td>1705.984000</td>\n",
       "    </tr>\n",
       "    <tr>\n",
       "      <th>3</th>\n",
       "      <td>CuW</td>\n",
       "      <td>38.48</td>\n",
       "      <td>15.1500</td>\n",
       "      <td>582.972000</td>\n",
       "    </tr>\n",
       "    <tr>\n",
       "      <th>4</th>\n",
       "      <td>Fe</td>\n",
       "      <td>485.40</td>\n",
       "      <td>7.8740</td>\n",
       "      <td>3822.039600</td>\n",
       "    </tr>\n",
       "    <tr>\n",
       "      <th>5</th>\n",
       "      <td>Kapton</td>\n",
       "      <td>3.00</td>\n",
       "      <td>1.4000</td>\n",
       "      <td>4.200000</td>\n",
       "    </tr>\n",
       "    <tr>\n",
       "      <th>6</th>\n",
       "      <td>PCB</td>\n",
       "      <td>53.20</td>\n",
       "      <td>1.5000</td>\n",
       "      <td>79.800000</td>\n",
       "    </tr>\n",
       "    <tr>\n",
       "      <th>7</th>\n",
       "      <td>Pb</td>\n",
       "      <td>68.60</td>\n",
       "      <td>11.3400</td>\n",
       "      <td>777.924000</td>\n",
       "    </tr>\n",
       "    <tr>\n",
       "      <th>8</th>\n",
       "      <td>Si</td>\n",
       "      <td>12.00</td>\n",
       "      <td>2.3290</td>\n",
       "      <td>27.948000</td>\n",
       "    </tr>\n",
       "  </tbody>\n",
       "</table>\n",
       "</div>"
      ],
      "text/plain": [
       "  Material  distance  Density  density*distance\n",
       "0      Air    772.93   1.1839        915.071827\n",
       "1       Al      4.20   2.7100         11.382000\n",
       "2       Cu    190.40   8.9600       1705.984000\n",
       "3      CuW     38.48  15.1500        582.972000\n",
       "4       Fe    485.40   7.8740       3822.039600\n",
       "5   Kapton      3.00   1.4000          4.200000\n",
       "6      PCB     53.20   1.5000         79.800000\n",
       "7       Pb     68.60  11.3400        777.924000\n",
       "8       Si     12.00   2.3290         27.948000"
      ]
     },
     "execution_count": 3,
     "metadata": {},
     "output_type": "execute_result"
    }
   ],
   "source": [
    "h = list(df.values.T.tolist())[0]\n",
    "k = list(df.index)\n",
    "Density = [1.1839,2.710,8.96,15.15,7.874,1.40,1.5,11.34,2.329]\n",
    "df = pd.DataFrame(\n",
    "    {\n",
    "    'Material' : k,\n",
    "    'distance' : h\n",
    "})\n",
    "df = df.groupby('Material').sum()\n",
    "Density = pd.DataFrame({\n",
    "    'density': Density\n",
    "})\n",
    "df = df.reset_index()\n",
    "df ['Density'] = Density.density\n",
    "df ['density*distance'] = df.Density*df.distance\n",
    "df"
   ]
  },
  {
   "cell_type": "code",
   "execution_count": 4,
   "metadata": {},
   "outputs": [
    {
     "data": {
      "text/plain": [
       "['Air', 'Al', 'Cu', 'CuW', 'Fe', 'Kapton', 'PCB', 'Pb', 'Si']"
      ]
     },
     "execution_count": 4,
     "metadata": {},
     "output_type": "execute_result"
    }
   ],
   "source": [
    "list(df.Material)"
   ]
  }
 ],
 "metadata": {
  "kernelspec": {
   "display_name": "Python 3",
   "language": "python",
   "name": "python3"
  },
  "language_info": {
   "codemirror_mode": {
    "name": "ipython",
    "version": 3
   },
   "file_extension": ".py",
   "mimetype": "text/x-python",
   "name": "python",
   "nbconvert_exporter": "python",
   "pygments_lexer": "ipython3",
   "version": "3.7.0"
  }
 },
 "nbformat": 4,
 "nbformat_minor": 2
}
