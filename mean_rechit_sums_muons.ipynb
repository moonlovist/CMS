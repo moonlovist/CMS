{
 "cells": [
  {
   "cell_type": "code",
   "execution_count": 32,
   "metadata": {},
   "outputs": [],
   "source": [
    "import numpy as np\n",
    "import pandas as pd\n",
    "import matplotlib.pyplot as plt\n",
    "import os\n",
    "import glob\n",
    "import geeksw.hgcal.testbeam as hgc"
   ]
  },
  {
   "cell_type": "code",
   "execution_count": 34,
   "metadata": {},
   "outputs": [],
   "source": [
    "muons_runlist = hgc.runlist.query('Particle == \"muon\"')"
   ]
  },
  {
   "cell_type": "code",
   "execution_count": 36,
   "metadata": {},
   "outputs": [],
   "source": [
    "def save_mean_rechit_sums(runlist):\n",
    "    \n",
    "    run_numbers = runlist.Run.values\n",
    "    run_beamenergies = runlist.Energy.values\n",
    "    n_events = runlist.Nevents.values\n",
    "    Configuration_type = runlist.Configuration.values\n",
    "\n",
    "    mean_rechit_sum = []\n",
    "#columns = [\"events\", \"rechit_energy\"]\n",
    "    for run, beam_energy in zip(run_numbers, run_beamenergies):\n",
    "        df = hgc.load_run(run)\n",
    "        n_events = len(df.event.unique())\n",
    "        rechit_energy = df.rechit_energy.sum()/n_events\n",
    "        print(run, n_events, beam_energy, rechit_energy)\n",
    "        mean_rechit_sum.append(rechit_energy)\n",
    "    \n",
    "    df = pd.DataFrame({\n",
    "        \"run_number\" : run_numbers,\n",
    "        \"n_events\" : n_events,\n",
    "        \"beam_energies\" : run_beamenergies,\n",
    "        \"mean_rechit_sum\" : mean_rechit_sum,\n",
    "        \"Configuration_type\" : Configuration_type\n",
    "    })\n",
    "\n",
    "    df.to_csv(\"muons_energy_sums.csv\")\n",
    "    \n",
    "    return df"
   ]
  },
  {
   "cell_type": "code",
   "execution_count": 37,
   "metadata": {},
   "outputs": [
    {
     "data": {
      "text/plain": [
       "20"
      ]
     },
     "execution_count": 37,
     "metadata": {},
     "output_type": "execute_result"
    }
   ],
   "source": [
    "len(muons_runlist)"
   ]
  },
  {
   "cell_type": "code",
   "execution_count": 38,
   "metadata": {},
   "outputs": [],
   "source": [
    "if os.path.isfile(\"muons_energy_sums.csv\"):\n",
    "    df = pd.read_csv(\"muons_energy_sums.csv\")\n",
    "else:\n",
    "    save_mean_rechit_sums(muons_runlist)"
   ]
  }
 ],
 "metadata": {
  "kernelspec": {
   "display_name": "Python 3",
   "language": "python",
   "name": "python3"
  },
  "language_info": {
   "codemirror_mode": {
    "name": "ipython",
    "version": 3
   },
   "file_extension": ".py",
   "mimetype": "text/x-python",
   "name": "python",
   "nbconvert_exporter": "python",
   "pygments_lexer": "ipython3",
   "version": "3.7.0"
  }
 },
 "nbformat": 4,
 "nbformat_minor": 2
}
