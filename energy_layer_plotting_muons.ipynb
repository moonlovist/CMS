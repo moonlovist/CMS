{
 "cells": [
  {
   "cell_type": "code",
   "execution_count": 7,
   "metadata": {},
   "outputs": [],
   "source": [
    "import numpy as np\n",
    "import pandas as pd\n",
    "import matplotlib.pyplot as plt\n",
    "import os\n",
    "import glob\n",
    "import geeksw.hgcal.testbeam as hgc"
   ]
  },
  {
   "cell_type": "code",
   "execution_count": 9,
   "metadata": {},
   "outputs": [
    {
     "data": {
      "text/html": [
       "<div>\n",
       "<style scoped>\n",
       "    .dataframe tbody tr th:only-of-type {\n",
       "        vertical-align: middle;\n",
       "    }\n",
       "\n",
       "    .dataframe tbody tr th {\n",
       "        vertical-align: top;\n",
       "    }\n",
       "\n",
       "    .dataframe thead th {\n",
       "        text-align: right;\n",
       "    }\n",
       "</style>\n",
       "<table border=\"1\" class=\"dataframe\">\n",
       "  <thead>\n",
       "    <tr style=\"text-align: right;\">\n",
       "      <th></th>\n",
       "      <th>Run</th>\n",
       "      <th>Date</th>\n",
       "      <th>Nevents</th>\n",
       "      <th>Particle</th>\n",
       "      <th>Energy</th>\n",
       "      <th>Configuration</th>\n",
       "      <th>CaloConfiguration</th>\n",
       "    </tr>\n",
       "    <tr>\n",
       "      <th>Energy</th>\n",
       "      <th></th>\n",
       "      <th></th>\n",
       "      <th></th>\n",
       "      <th></th>\n",
       "      <th></th>\n",
       "      <th></th>\n",
       "      <th></th>\n",
       "    </tr>\n",
       "  </thead>\n",
       "  <tbody>\n",
       "    <tr>\n",
       "      <th>-1</th>\n",
       "      <td>524</td>\n",
       "      <td>2018-10-14 20:10:00</td>\n",
       "      <td>4238</td>\n",
       "      <td>muon</td>\n",
       "      <td>-1</td>\n",
       "      <td>22b</td>\n",
       "      <td>1</td>\n",
       "    </tr>\n",
       "    <tr>\n",
       "      <th>200</th>\n",
       "      <td>698</td>\n",
       "      <td>2018-10-17 00:03:00</td>\n",
       "      <td>10147</td>\n",
       "      <td>muon</td>\n",
       "      <td>200</td>\n",
       "      <td>22b</td>\n",
       "      <td>1</td>\n",
       "    </tr>\n",
       "  </tbody>\n",
       "</table>\n",
       "</div>"
      ],
      "text/plain": [
       "        Run                 Date  Nevents Particle  Energy Configuration  \\\n",
       "Energy                                                                     \n",
       "-1      524  2018-10-14 20:10:00     4238     muon      -1           22b   \n",
       " 200    698  2018-10-17 00:03:00    10147     muon     200           22b   \n",
       "\n",
       "        CaloConfiguration  \n",
       "Energy                     \n",
       "-1                      1  \n",
       " 200                    1  "
      ]
     },
     "execution_count": 9,
     "metadata": {},
     "output_type": "execute_result"
    }
   ],
   "source": [
    "muon_runlist = hgc.runlist.query(\"Particle == 'muon'\").groupby(\"Energy\").apply(lambda x : x.iloc[0])\n",
    "muon_runlist"
   ]
  },
  {
   "cell_type": "code",
   "execution_count": 10,
   "metadata": {},
   "outputs": [
    {
     "data": {
      "image/png": "[encoded data removed]",
      "text/plain": [
       "<Figure size 432x288 with 1 Axes>"
      ]
     },
     "metadata": {
      "needs_background": "light"
     },
     "output_type": "display_data"
    }
   ],
   "source": [
    "run_numbers = muon_runlist.Run.values\n",
    "#mean_rechit_sum = []\n",
    "#mean_rechit_X0 = []\n",
    "#i = 0\n",
    "#for run in run_numbers:\n",
    "hdf = hgc.load_run(698, columns = [\"beamEnergy\",\"event\", \"rechit_layer\", \"rechit_energy\", \"rechit_X0\", \"rechit_dE\"])\n",
    "energy = hdf.beamEnergy.values[0]\n",
    "energy_sums = hdf.groupby([\"rechit_X0\",\"event\"]).rechit_energy.sum()\n",
    "energy_sums = energy_sums.reset_index()\n",
    "energy_sums_mean = energy_sums.groupby(\"rechit_X0\").median()\n",
    "energy_sums_variance = energy_sums.groupby(\"rechit_X0\").std()\n",
    "energy_sums_variance = energy_sums_variance.reset_index()\n",
    "energy_sums_mean = energy_sums_mean.reset_index()\n",
    "energy_sums_mean[\"rechit_energy\"] = energy_sums_mean[\"rechit_energy\"]/energy_sums_mean[\"rechit_energy\"].sum()\n",
    "energy_sums_variance[\"rechit_energy\"] = energy_sums_variance[\"rechit_energy\"]/energy_sums_variance[\"rechit_energy\"].sum()\n",
    "    #energy_sums_mean\n",
    "    #energy_sums_variance\n",
    "plt.errorbar(energy_sums_mean.rechit_X0, energy_sums_mean.rechit_energy, yerr=energy_sums_variance.rechit_energy, fmt=\"o\", linestyle='-', linewidth=1, markersize=2, label=str(energy) + \" GeV\")\n",
    "plt.legend(loc=\"upper right\")\n",
    "plt.show()"
   ]
  },
  {
   "cell_type": "code",
   "execution_count": 11,
   "metadata": {},
   "outputs": [
    {
     "data": {
      "image/png": "[encoded data removed]",
      "text/plain": [
       "<Figure size 432x288 with 1 Axes>"
      ]
     },
     "metadata": {
      "needs_background": "light"
     },
     "output_type": "display_data"
    }
   ],
   "source": [
    "run_numbers = muon_runlist.Run.values\n",
    "#mean_rechit_sum = []\n",
    "#mean_rechit_X0 = []\n",
    "#i = 0\n",
    "#for run in run_numbers:\n",
    "hdf = hgc.load_run(698, columns = [\"beamEnergy\",\"event\", \"rechit_layer\", \"rechit_energy\", \"rechit_X0\", \"rechit_dE\"])\n",
    "energy = hdf.beamEnergy.values[0]\n",
    "energy_sums = hdf.groupby([\"rechit_X0\",\"event\"]).rechit_energy.sum()\n",
    "energy_sums = energy_sums.reset_index()\n",
    "energy_sums_mean = energy_sums.groupby(\"rechit_X0\").median()\n",
    "energy_sums_variance = energy_sums.groupby(\"rechit_X0\").std()\n",
    "energy_sums_variance = energy_sums_variance.reset_index()\n",
    "energy_sums_mean = energy_sums_mean.reset_index()\n",
    "energy_sum_temporary = energy_sums_mean[\"rechit_energy\"].sum()\n",
    "energy_sums_mean[\"rechit_energy\"] = energy_sums_mean[\"rechit_energy\"]/energy_sum_temporary\n",
    "energy_sums_variance[\"rechit_energy\"] = energy_sums_variance[\"rechit_energy\"]/energy_sum_temporary\n",
    "    #energy_sums_mean\n",
    "    #energy_sums_variance\n",
    "plt.errorbar(energy_sums_mean.rechit_X0, energy_sums_mean.rechit_energy, yerr=energy_sums_variance.rechit_energy, fmt=\"o\", linestyle='-', linewidth=1, markersize=2, label=str(energy) + \" GeV\")\n",
    "plt.legend(loc=\"upper right\")\n",
    "plt.xlabel(r'$X_0$')\n",
    "plt.ylabel(\"Energy fraction\")\n",
    "plt.title(\"Longitudinal shower profile for muons configuration 22b\")\n",
    "plt.show()"
   ]
  }
 ],
 "metadata": {
  "kernelspec": {
   "display_name": "Python 3",
   "language": "python",
   "name": "python3"
  },
  "language_info": {
   "codemirror_mode": {
    "name": "ipython",
    "version": 3
   },
   "file_extension": ".py",
   "mimetype": "text/x-python",
   "name": "python",
   "nbconvert_exporter": "python",
   "pygments_lexer": "ipython3",
   "version": "3.7.0"
  }
 },
 "nbformat": 4,
 "nbformat_minor": 2
}
